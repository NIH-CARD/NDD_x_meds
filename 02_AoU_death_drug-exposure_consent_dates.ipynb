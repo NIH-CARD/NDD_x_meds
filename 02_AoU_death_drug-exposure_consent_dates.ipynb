{
 "cells": [
  {
   "cell_type": "code",
   "execution_count": 1,
   "metadata": {},
   "outputs": [
    {
     "data": {
      "application/vnd.jupyter.widget-view+json": {
       "model_id": "da2ef137649e4ca59d7e4c237683bd05",
       "version_major": 2,
       "version_minor": 0
      },
      "text/plain": [
       "Downloading:   0%|          | 0/3218 [00:00<?, ?rows/s]"
      ]
     },
     "metadata": {},
     "output_type": "display_data"
    },
    {
     "data": {
      "text/html": [
       "<div>\n",
       "<style scoped>\n",
       "    .dataframe tbody tr th:only-of-type {\n",
       "        vertical-align: middle;\n",
       "    }\n",
       "\n",
       "    .dataframe tbody tr th {\n",
       "        vertical-align: top;\n",
       "    }\n",
       "\n",
       "    .dataframe thead th {\n",
       "        text-align: right;\n",
       "    }\n",
       "</style>\n",
       "<table border=\"1\" class=\"dataframe\">\n",
       "  <thead>\n",
       "    <tr style=\"text-align: right;\">\n",
       "      <th></th>\n",
       "      <th>person_id</th>\n",
       "      <th>death_date</th>\n",
       "    </tr>\n",
       "  </thead>\n",
       "  <tbody>\n",
       "    <tr>\n",
       "      <th>0</th>\n",
       "      <td>1520233</td>\n",
       "      <td>2019-12-01</td>\n",
       "    </tr>\n",
       "    <tr>\n",
       "      <th>1</th>\n",
       "      <td>3418757</td>\n",
       "      <td>2020-06-29</td>\n",
       "    </tr>\n",
       "    <tr>\n",
       "      <th>2</th>\n",
       "      <td>1805176</td>\n",
       "      <td>2019-07-10</td>\n",
       "    </tr>\n",
       "    <tr>\n",
       "      <th>3</th>\n",
       "      <td>1669987</td>\n",
       "      <td>2019-12-11</td>\n",
       "    </tr>\n",
       "    <tr>\n",
       "      <th>4</th>\n",
       "      <td>1376687</td>\n",
       "      <td>2019-12-17</td>\n",
       "    </tr>\n",
       "    <tr>\n",
       "      <th>...</th>\n",
       "      <td>...</td>\n",
       "      <td>...</td>\n",
       "    </tr>\n",
       "    <tr>\n",
       "      <th>3213</th>\n",
       "      <td>2394535</td>\n",
       "      <td>2020-04-05</td>\n",
       "    </tr>\n",
       "    <tr>\n",
       "      <th>3214</th>\n",
       "      <td>2672589</td>\n",
       "      <td>2020-12-04</td>\n",
       "    </tr>\n",
       "    <tr>\n",
       "      <th>3215</th>\n",
       "      <td>1414331</td>\n",
       "      <td>2022-01-18</td>\n",
       "    </tr>\n",
       "    <tr>\n",
       "      <th>3216</th>\n",
       "      <td>1736055</td>\n",
       "      <td>2020-09-19</td>\n",
       "    </tr>\n",
       "    <tr>\n",
       "      <th>3217</th>\n",
       "      <td>1102842</td>\n",
       "      <td>2020-03-13</td>\n",
       "    </tr>\n",
       "  </tbody>\n",
       "</table>\n",
       "<p>3218 rows × 2 columns</p>\n",
       "</div>"
      ],
      "text/plain": [
       "      person_id  death_date\n",
       "0       1520233  2019-12-01\n",
       "1       3418757  2020-06-29\n",
       "2       1805176  2019-07-10\n",
       "3       1669987  2019-12-11\n",
       "4       1376687  2019-12-17\n",
       "...         ...         ...\n",
       "3213    2394535  2020-04-05\n",
       "3214    2672589  2020-12-04\n",
       "3215    1414331  2022-01-18\n",
       "3216    1736055  2020-09-19\n",
       "3217    1102842  2020-03-13\n",
       "\n",
       "[3218 rows x 2 columns]"
      ]
     },
     "execution_count": 1,
     "metadata": {},
     "output_type": "execute_result"
    }
   ],
   "source": [
    "import pandas\n",
    "import os\n",
    "\n",
    "# This pulls people who have died and have a recorded death date\n",
    "dataset_death_sql = \"\"\"\n",
    "    SELECT DISTINCT person_id, death_date\n",
    "    FROM\n",
    "        `fc-aou-cdr-prod-ct.C2022Q4R13.death` \n",
    "\n",
    "\n",
    "\"\"\"\n",
    "\n",
    "dataset_death_person_df = pandas.read_gbq(\n",
    "    dataset_death_sql,\n",
    "    dialect=\"standard\",\n",
    "    use_bqstorage_api=(\"BIGQUERY_STORAGE_API_ENABLED\" in os.environ),\n",
    "    progress_bar_type=\"tqdm_notebook\")\n",
    "\n",
    "dataset_death_person_df"
   ]
  },
  {
   "cell_type": "code",
   "execution_count": 2,
   "metadata": {},
   "outputs": [],
   "source": [
    "dataset_death_person_df.to_csv('death_date.csv', header = True, index = False)"
   ]
  },
  {
   "cell_type": "code",
   "execution_count": 3,
   "metadata": {},
   "outputs": [],
   "source": [
    "import os\n",
    "import subprocess\n",
    "import numpy as np\n",
    "import pandas as pd"
   ]
  },
  {
   "cell_type": "code",
   "execution_count": 4,
   "metadata": {},
   "outputs": [
    {
     "data": {
      "text/plain": [
       "b'Copying file://./death_date.csv [Content-Type=text/csv]...\\n/ [0 files][    0.0 B/ 59.7 KiB]                                                \\r/ [1 files][ 59.7 KiB/ 59.7 KiB]                                                \\r\\nOperation completed over 1 objects/59.7 KiB.                                     \\n'"
      ]
     },
     "execution_count": 4,
     "metadata": {},
     "output_type": "execute_result"
    }
   ],
   "source": [
    "# This snippet assumes you run setup first\n",
    "\n",
    "# This code saves your dataframe into a csv file in a \"data\" folder in Google Bucket\n",
    "\n",
    "# Replace df with THE NAME OF YOUR DATAFRAME\n",
    "my_dataframe = dataset_death_person_df \n",
    "\n",
    "# Replace 'test.csv' with THE NAME of the file you're going to store in the bucket (don't delete the quotation marks)\n",
    "destination_filename = 'death_date.csv'\n",
    "\n",
    "########################################################################\n",
    "##\n",
    "################# DON'T CHANGE FROM HERE ###############################\n",
    "##\n",
    "########################################################################\n",
    "\n",
    "# save dataframe in a csv file in the same workspace as the notebook\n",
    "my_dataframe.to_csv(destination_filename, index=False)\n",
    "\n",
    "# get the bucket name\n",
    "my_bucket = os.getenv('WORKSPACE_BUCKET')\n",
    "\n",
    "# copy csv file to the bucket\n",
    "args = [\"gsutil\", \"cp\", f\"./{destination_filename}\", f\"{my_bucket}/data/\"]\n",
    "output = subprocess.run(args, capture_output=True)\n",
    "\n",
    "# print output from gsutil\n",
    "output.stderr\n"
   ]
  },
  {
   "cell_type": "code",
   "execution_count": null,
   "metadata": {},
   "outputs": [],
   "source": []
  },
  {
   "cell_type": "code",
   "execution_count": 5,
   "metadata": {},
   "outputs": [
    {
     "data": {
      "application/vnd.jupyter.widget-view+json": {
       "model_id": "5caa92e66d874986a526185310294a47",
       "version_major": 2,
       "version_minor": 0
      },
      "text/plain": [
       "Downloading:   0%|          | 0/334162 [00:00<?, ?rows/s]"
      ]
     },
     "metadata": {},
     "output_type": "display_data"
    },
    {
     "data": {
      "text/html": [
       "<div>\n",
       "<style scoped>\n",
       "    .dataframe tbody tr th:only-of-type {\n",
       "        vertical-align: middle;\n",
       "    }\n",
       "\n",
       "    .dataframe tbody tr th {\n",
       "        vertical-align: top;\n",
       "    }\n",
       "\n",
       "    .dataframe thead th {\n",
       "        text-align: right;\n",
       "    }\n",
       "</style>\n",
       "<table border=\"1\" class=\"dataframe\">\n",
       "  <thead>\n",
       "    <tr style=\"text-align: right;\">\n",
       "      <th></th>\n",
       "      <th>person_id</th>\n",
       "    </tr>\n",
       "  </thead>\n",
       "  <tbody>\n",
       "    <tr>\n",
       "      <th>0</th>\n",
       "      <td>7702192</td>\n",
       "    </tr>\n",
       "    <tr>\n",
       "      <th>1</th>\n",
       "      <td>7558060</td>\n",
       "    </tr>\n",
       "    <tr>\n",
       "      <th>2</th>\n",
       "      <td>1064256</td>\n",
       "    </tr>\n",
       "    <tr>\n",
       "      <th>3</th>\n",
       "      <td>1933483</td>\n",
       "    </tr>\n",
       "    <tr>\n",
       "      <th>4</th>\n",
       "      <td>1265151</td>\n",
       "    </tr>\n",
       "    <tr>\n",
       "      <th>...</th>\n",
       "      <td>...</td>\n",
       "    </tr>\n",
       "    <tr>\n",
       "      <th>334157</th>\n",
       "      <td>2960925</td>\n",
       "    </tr>\n",
       "    <tr>\n",
       "      <th>334158</th>\n",
       "      <td>3472420</td>\n",
       "    </tr>\n",
       "    <tr>\n",
       "      <th>334159</th>\n",
       "      <td>2871134</td>\n",
       "    </tr>\n",
       "    <tr>\n",
       "      <th>334160</th>\n",
       "      <td>1068168</td>\n",
       "    </tr>\n",
       "    <tr>\n",
       "      <th>334161</th>\n",
       "      <td>2464789</td>\n",
       "    </tr>\n",
       "  </tbody>\n",
       "</table>\n",
       "<p>334162 rows × 1 columns</p>\n",
       "</div>"
      ],
      "text/plain": [
       "        person_id\n",
       "0         7702192\n",
       "1         7558060\n",
       "2         1064256\n",
       "3         1933483\n",
       "4         1265151\n",
       "...           ...\n",
       "334157    2960925\n",
       "334158    3472420\n",
       "334159    2871134\n",
       "334160    1068168\n",
       "334161    2464789\n",
       "\n",
       "[334162 rows x 1 columns]"
      ]
     },
     "execution_count": 5,
     "metadata": {},
     "output_type": "execute_result"
    }
   ],
   "source": [
    "import pandas\n",
    "import os\n",
    "\n",
    "# This pulls people who have drug_exposure data\n",
    "dataset_62088302_person_sql = \"\"\"\n",
    "    SELECT DISTINCT person_id \n",
    "    FROM\n",
    "        `\"\"\" + os.environ[\"WORKSPACE_CDR\"] + \"\"\".drug_exposure` \n",
    "\n",
    "\n",
    "\"\"\"\n",
    "\n",
    "dataset_62088302_person_df = pandas.read_gbq(\n",
    "    dataset_62088302_person_sql,\n",
    "    dialect=\"standard\",\n",
    "    use_bqstorage_api=(\"BIGQUERY_STORAGE_API_ENABLED\" in os.environ),\n",
    "    progress_bar_type=\"tqdm_notebook\")\n",
    "\n",
    "dataset_62088302_person_df"
   ]
  },
  {
   "cell_type": "code",
   "execution_count": 6,
   "metadata": {},
   "outputs": [],
   "source": [
    "dataset_62088302_person_df.to_csv('people_with_drug_data.csv')"
   ]
  },
  {
   "cell_type": "code",
   "execution_count": 7,
   "metadata": {},
   "outputs": [
    {
     "data": {
      "text/plain": [
       "b'Copying file://./people_with_drug_data.csv [Content-Type=text/csv]...\\n/ [0 files][    0.0 B/  2.6 MiB]                                                \\r-\\r- [0 files][  2.3 MiB/  2.6 MiB]                                                \\r- [1 files][  2.6 MiB/  2.6 MiB]                                                \\r\\\\\\r\\nOperation completed over 1 objects/2.6 MiB.                                      \\n'"
      ]
     },
     "execution_count": 7,
     "metadata": {},
     "output_type": "execute_result"
    }
   ],
   "source": [
    "# This snippet assumes you run setup first\n",
    "\n",
    "# This code saves your dataframe into a csv file in a \"data\" folder in Google Bucket\n",
    "\n",
    "# Replace df with THE NAME OF YOUR DATAFRAME\n",
    "my_dataframe = dataset_62088302_person_df \n",
    "\n",
    "# Replace 'test.csv' with THE NAME of the file you're going to store in the bucket (don't delete the quotation marks)\n",
    "destination_filename = 'people_with_drug_data.csv'\n",
    "\n",
    "########################################################################\n",
    "##\n",
    "################# DON'T CHANGE FROM HERE ###############################\n",
    "##\n",
    "########################################################################\n",
    "\n",
    "# save dataframe in a csv file in the same workspace as the notebook\n",
    "my_dataframe.to_csv(destination_filename, index=False)\n",
    "\n",
    "# get the bucket name\n",
    "my_bucket = os.getenv('WORKSPACE_BUCKET')\n",
    "\n",
    "# copy csv file to the bucket\n",
    "args = [\"gsutil\", \"cp\", f\"./{destination_filename}\", f\"{my_bucket}/data/\"]\n",
    "output = subprocess.run(args, capture_output=True)\n",
    "\n",
    "# print output from gsutil\n",
    "output.stderr\n"
   ]
  },
  {
   "cell_type": "code",
   "execution_count": null,
   "metadata": {},
   "outputs": [],
   "source": []
  },
  {
   "cell_type": "code",
   "execution_count": 8,
   "metadata": {},
   "outputs": [
    {
     "data": {
      "text/html": [
       "<div>\n",
       "<style scoped>\n",
       "    .dataframe tbody tr th:only-of-type {\n",
       "        vertical-align: middle;\n",
       "    }\n",
       "\n",
       "    .dataframe tbody tr th {\n",
       "        vertical-align: top;\n",
       "    }\n",
       "\n",
       "    .dataframe thead th {\n",
       "        text-align: right;\n",
       "    }\n",
       "</style>\n",
       "<table border=\"1\" class=\"dataframe\">\n",
       "  <thead>\n",
       "    <tr style=\"text-align: right;\">\n",
       "      <th></th>\n",
       "      <th>person_id</th>\n",
       "      <th>primary_consent_date</th>\n",
       "    </tr>\n",
       "  </thead>\n",
       "  <tbody>\n",
       "    <tr>\n",
       "      <th>0</th>\n",
       "      <td>3506396</td>\n",
       "      <td>2018-12-07</td>\n",
       "    </tr>\n",
       "    <tr>\n",
       "      <th>1</th>\n",
       "      <td>1060281</td>\n",
       "      <td>2022-05-26</td>\n",
       "    </tr>\n",
       "    <tr>\n",
       "      <th>2</th>\n",
       "      <td>8815805</td>\n",
       "      <td>2022-06-27</td>\n",
       "    </tr>\n",
       "    <tr>\n",
       "      <th>3</th>\n",
       "      <td>7562254</td>\n",
       "      <td>2023-08-17</td>\n",
       "    </tr>\n",
       "    <tr>\n",
       "      <th>4</th>\n",
       "      <td>8676865</td>\n",
       "      <td>2022-09-13</td>\n",
       "    </tr>\n",
       "  </tbody>\n",
       "</table>\n",
       "</div>"
      ],
      "text/plain": [
       "   person_id primary_consent_date\n",
       "0    3506396           2018-12-07\n",
       "1    1060281           2022-05-26\n",
       "2    8815805           2022-06-27\n",
       "3    7562254           2023-08-17\n",
       "4    8676865           2022-09-13"
      ]
     },
     "execution_count": 8,
     "metadata": {},
     "output_type": "execute_result"
    }
   ],
   "source": [
    "# This code pulls the primary consent date for AoU\n",
    "import pandas as pd\n",
    "DATASET = %env WORKSPACE_CDR\n",
    "df = pd.read_gbq(f'''\n",
    "SELECT DISTINCT person_id, MIN(observation_date) AS primary_consent_date\n",
    "FROM `{DATASET}.concept`\n",
    "JOIN `{DATASET}.concept_ancestor` on concept_id = ancestor_concept_id\n",
    "JOIN `{DATASET}.observation` on descendant_concept_id = observation_source_concept_id\n",
    "WHERE concept_name = 'Consent PII' AND concept_class_id = 'Module'\n",
    "GROUP BY 1''')\n",
    "df.head()"
   ]
  },
  {
   "cell_type": "code",
   "execution_count": 9,
   "metadata": {},
   "outputs": [
    {
     "data": {
      "text/plain": [
       "633546"
      ]
     },
     "execution_count": 9,
     "metadata": {},
     "output_type": "execute_result"
    }
   ],
   "source": [
    "len(df)"
   ]
  },
  {
   "cell_type": "code",
   "execution_count": 10,
   "metadata": {},
   "outputs": [],
   "source": [
    "df.to_csv('primary_consent_date.csv', header = True, index = False)"
   ]
  },
  {
   "cell_type": "code",
   "execution_count": 11,
   "metadata": {},
   "outputs": [
    {
     "data": {
      "text/plain": [
       "b'Copying file://./primary_consent_date.csv [Content-Type=text/csv]...\\n/ [0 files][    0.0 B/ 11.5 MiB]                                                \\r-\\r- [0 files][  3.4 MiB/ 11.5 MiB]                                                \\r\\\\\\r\\\\ [0 files][  5.2 MiB/ 11.5 MiB]                                                \\r|\\r/\\r/ [0 files][  7.0 MiB/ 11.5 MiB]                                                \\r-\\r- [0 files][  8.8 MiB/ 11.5 MiB]                                                \\r\\\\\\r|\\r| [0 files][ 10.6 MiB/ 11.5 MiB]                                                \\r/\\r/ [1 files][ 11.5 MiB/ 11.5 MiB]                                                \\r-\\r\\nOperation completed over 1 objects/11.5 MiB.                                     \\n'"
      ]
     },
     "execution_count": 11,
     "metadata": {},
     "output_type": "execute_result"
    }
   ],
   "source": [
    "# This snippet assumes you run setup first\n",
    "\n",
    "# This code saves your dataframe into a csv file in a \"data\" folder in Google Bucket\n",
    "\n",
    "# Replace df with THE NAME OF YOUR DATAFRAME\n",
    "my_dataframe = df   \n",
    "\n",
    "# Replace 'test.csv' with THE NAME of the file you're going to store in the bucket (don't delete the quotation marks)\n",
    "destination_filename = 'primary_consent_date.csv'\n",
    "\n",
    "########################################################################\n",
    "##\n",
    "################# DON'T CHANGE FROM HERE ###############################\n",
    "##\n",
    "########################################################################\n",
    "\n",
    "# save dataframe in a csv file in the same workspace as the notebook\n",
    "my_dataframe.to_csv(destination_filename, index=False)\n",
    "\n",
    "# get the bucket name\n",
    "my_bucket = os.getenv('WORKSPACE_BUCKET')\n",
    "\n",
    "# copy csv file to the bucket\n",
    "args = [\"gsutil\", \"cp\", f\"./{destination_filename}\", f\"{my_bucket}/data/\"]\n",
    "output = subprocess.run(args, capture_output=True)\n",
    "\n",
    "# print output from gsutil\n",
    "output.stderr\n"
   ]
  },
  {
   "cell_type": "code",
   "execution_count": 12,
   "metadata": {},
   "outputs": [
    {
     "name": "stdout",
     "output_type": "stream",
     "text": [
      "gs://fc-secure-e4bcff7f-a715-4434-8db4-3afa775a8ffc/data/:\n",
      "gs://fc-secure-e4bcff7f-a715-4434-8db4-3afa775a8ffc/data/AD_cases_n666.csv\n",
      "gs://fc-secure-e4bcff7f-a715-4434-8db4-3afa775a8ffc/data/DEM_cases_n2825.csv\n",
      "gs://fc-secure-e4bcff7f-a715-4434-8db4-3afa775a8ffc/data/PD_cases_n1713.csv\n",
      "gs://fc-secure-e4bcff7f-a715-4434-8db4-3afa775a8ffc/data/controls_60_n135891.csv\n",
      "gs://fc-secure-e4bcff7f-a715-4434-8db4-3afa775a8ffc/data/death_date.csv\n",
      "gs://fc-secure-e4bcff7f-a715-4434-8db4-3afa775a8ffc/data/people_with_drug_data.csv\n",
      "gs://fc-secure-e4bcff7f-a715-4434-8db4-3afa775a8ffc/data/primary_consent_date.csv\n",
      "\n",
      "gs://fc-secure-e4bcff7f-a715-4434-8db4-3afa775a8ffc/notebooks/:\n",
      "gs://fc-secure-e4bcff7f-a715-4434-8db4-3afa775a8ffc/notebooks/01_AD_cases_JAN_17_2025.ipynb\n",
      "gs://fc-secure-e4bcff7f-a715-4434-8db4-3afa775a8ffc/notebooks/01_DEM_cases_JAN_17_2025.ipynb\n",
      "gs://fc-secure-e4bcff7f-a715-4434-8db4-3afa775a8ffc/notebooks/01_PD_cases_JAN_17_2025.ipynb\n",
      "gs://fc-secure-e4bcff7f-a715-4434-8db4-3afa775a8ffc/notebooks/02_controls_60_JAN_20_2025.ipynb\n",
      "gs://fc-secure-e4bcff7f-a715-4434-8db4-3afa775a8ffc/notebooks/02_death_drug_exposure_consent_dates.ipynb\n",
      "\n"
     ]
    }
   ],
   "source": [
    "# This snippet assumes that you run setup first\n",
    "\n",
    "# This code lists objects in your Google Bucket\n",
    "\n",
    "# Get the bucket name\n",
    "my_bucket = os.getenv('WORKSPACE_BUCKET')\n",
    "\n",
    "# List objects in the bucket\n",
    "print(subprocess.check_output(f\"gsutil ls -r {my_bucket}\", shell=True).decode('utf-8'))\n",
    "\n",
    "\n"
   ]
  },
  {
   "cell_type": "code",
   "execution_count": null,
   "metadata": {},
   "outputs": [],
   "source": []
  }
 ],
 "metadata": {
  "kernelspec": {
   "display_name": "Python 3",
   "language": "python",
   "name": "python3"
  },
  "language_info": {
   "codemirror_mode": {
    "name": "ipython",
    "version": 3
   },
   "file_extension": ".py",
   "mimetype": "text/x-python",
   "name": "python",
   "nbconvert_exporter": "python",
   "pygments_lexer": "ipython3",
   "version": "3.10.16"
  },
  "toc": {
   "base_numbering": 1,
   "nav_menu": {},
   "number_sections": true,
   "sideBar": true,
   "skip_h1_title": false,
   "title_cell": "Table of Contents",
   "title_sidebar": "Contents",
   "toc_cell": false,
   "toc_position": {},
   "toc_section_display": true,
   "toc_window_display": false
  }
 },
 "nbformat": 4,
 "nbformat_minor": 2
}
